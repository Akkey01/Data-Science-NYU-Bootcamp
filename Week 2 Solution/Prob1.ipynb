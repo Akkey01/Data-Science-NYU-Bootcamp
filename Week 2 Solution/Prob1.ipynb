{
  "nbformat": 4,
  "nbformat_minor": 0,
  "metadata": {
    "colab": {
      "provenance": []
    },
    "kernelspec": {
      "name": "python3",
      "display_name": "Python 3"
    },
    "language_info": {
      "name": "python"
    }
  },
  "cells": [
    {
      "cell_type": "code",
      "execution_count": 1,
      "metadata": {
        "id": "BnTIv9LuzY5Z"
      },
      "outputs": [],
      "source": [
        "import numpy as np"
      ]
    },
    {
      "cell_type": "code",
      "source": [
        "A=np.array([[1,2,3],[4,5,6]])\n",
        "B=np.array([[8,9,10],[11,12,13]])"
      ],
      "metadata": {
        "id": "S5HS7N4z0Pik"
      },
      "execution_count": 6,
      "outputs": []
    },
    {
      "cell_type": "code",
      "source": [
        "A"
      ],
      "metadata": {
        "colab": {
          "base_uri": "https://localhost:8080/"
        },
        "id": "JNsfJxDM0d-h",
        "outputId": "8bf1012f-8305-4678-c2d6-dc30f1998d6f"
      },
      "execution_count": 7,
      "outputs": [
        {
          "output_type": "execute_result",
          "data": {
            "text/plain": [
              "array([[1, 2, 3],\n",
              "       [4, 5, 6]])"
            ]
          },
          "metadata": {},
          "execution_count": 7
        }
      ]
    },
    {
      "cell_type": "code",
      "source": [
        "B"
      ],
      "metadata": {
        "colab": {
          "base_uri": "https://localhost:8080/"
        },
        "id": "jex0bMlw1Gtf",
        "outputId": "099540f2-98b8-40aa-bea8-48aef6201b03"
      },
      "execution_count": 8,
      "outputs": [
        {
          "output_type": "execute_result",
          "data": {
            "text/plain": [
              "array([[ 8,  9, 10],\n",
              "       [11, 12, 13]])"
            ]
          },
          "metadata": {},
          "execution_count": 8
        }
      ]
    },
    {
      "cell_type": "code",
      "source": [
        "vstck=np.vstack((A,B))\n",
        "hstck=np.hstack((A,B))\n",
        "print(\"Vertical Stack is\\n\", vstck)\n",
        "print(\"\")\n",
        "print(\"Horizontal Stack is\\n\", hstck)\n"
      ],
      "metadata": {
        "colab": {
          "base_uri": "https://localhost:8080/"
        },
        "id": "wLOIjBht1H0y",
        "outputId": "f101ad3d-71b2-456e-dd5a-b08bbdab6815"
      },
      "execution_count": 14,
      "outputs": [
        {
          "output_type": "stream",
          "name": "stdout",
          "text": [
            "Vertical Stack is\n",
            " [[ 1  2  3]\n",
            " [ 4  5  6]\n",
            " [ 8  9 10]\n",
            " [11 12 13]]\n",
            "\n",
            "Horizontal Stack is\n",
            " [[ 1  2  3  8  9 10]\n",
            " [ 4  5  6 11 12 13]]\n"
          ]
        }
      ]
    },
    {
      "cell_type": "code",
      "source": [],
      "metadata": {
        "id": "HeJf33Bi1R8m"
      },
      "execution_count": null,
      "outputs": []
    }
  ]
}