{
  "nbformat": 4,
  "nbformat_minor": 0,
  "metadata": {
    "colab": {
      "provenance": []
    },
    "kernelspec": {
      "name": "python3",
      "display_name": "Python 3"
    },
    "language_info": {
      "name": "python"
    }
  },
  "cells": [
    {
      "cell_type": "code",
      "execution_count": 32,
      "metadata": {
        "colab": {
          "base_uri": "https://localhost:8080/"
        },
        "id": "BnTIv9LuzY5Z",
        "outputId": "7ff5fb22-5dd8-4da7-bbdf-f89df30a78c9"
      },
      "outputs": [
        {
          "name": "stdout",
          "output_type": "stream",
          "text": [
            "Enter the elements you want in the array in spaces then hit enter1 2 3 4 5 6\n"
          ]
        }
      ],
      "source": [
        "import numpy as np\n",
        "n=input(\"Enter the elements you want in the array in spaces then hit enter\")"
      ]
    },
    {
      "cell_type": "code",
      "source": [
        "arr=np.array(n.split(), dtype=int)"
      ],
      "metadata": {
        "id": "SOd5XFlm30v9"
      },
      "execution_count": 33,
      "outputs": []
    },
    {
      "cell_type": "code",
      "source": [
        "start=int(input(\"Enter the start range\"))\n",
        "end=int(input(\"Enter the end range\"))\n",
        "res=np.where((arr>=start) & (arr<=end))"
      ],
      "metadata": {
        "colab": {
          "base_uri": "https://localhost:8080/"
        },
        "id": "S5HS7N4z0Pik",
        "outputId": "a027e935-ce8b-4bd9-b756-d4b835d1ed38"
      },
      "execution_count": 36,
      "outputs": [
        {
          "name": "stdout",
          "output_type": "stream",
          "text": [
            "Enter the start range2\n",
            "Enter the end range5\n"
          ]
        }
      ]
    },
    {
      "cell_type": "code",
      "source": [
        "print(arr[res])"
      ],
      "metadata": {
        "colab": {
          "base_uri": "https://localhost:8080/"
        },
        "id": "JNsfJxDM0d-h",
        "outputId": "a13f84c3-cb2e-48e2-fd71-b65e90528757"
      },
      "execution_count": 37,
      "outputs": [
        {
          "output_type": "stream",
          "name": "stdout",
          "text": [
            "[2 3 4 5]\n"
          ]
        }
      ]
    },
    {
      "cell_type": "code",
      "source": [],
      "metadata": {
        "id": "jex0bMlw1Gtf"
      },
      "execution_count": null,
      "outputs": []
    },
    {
      "cell_type": "code",
      "source": [],
      "metadata": {
        "id": "HeJf33Bi1R8m"
      },
      "execution_count": null,
      "outputs": []
    }
  ]
}