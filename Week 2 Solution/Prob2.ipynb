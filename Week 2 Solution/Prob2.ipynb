{
  "nbformat": 4,
  "nbformat_minor": 0,
  "metadata": {
    "colab": {
      "provenance": []
    },
    "kernelspec": {
      "name": "python3",
      "display_name": "Python 3"
    },
    "language_info": {
      "name": "python"
    }
  },
  "cells": [
    {
      "cell_type": "code",
      "execution_count": 23,
      "metadata": {
        "colab": {
          "base_uri": "https://localhost:8080/"
        },
        "id": "BnTIv9LuzY5Z",
        "outputId": "5ba0f795-3f48-436f-ff73-814117b0bbb5"
      },
      "outputs": [
        {
          "name": "stdout",
          "output_type": "stream",
          "text": [
            "Enter No. of terms for list A2\n",
            "Enter the number1\n",
            "Enter the number2\n"
          ]
        }
      ],
      "source": [
        "A=[]\n",
        "B=[]\n",
        "n=int(input(\"Enter No. of terms for list A\"))\n",
        "\n",
        "for i in range(n):\n",
        "  k=int(input(\"Enter the number\"))\n",
        "  A.append(k)"
      ]
    },
    {
      "cell_type": "code",
      "source": [
        "print(A)\n"
      ],
      "metadata": {
        "colab": {
          "base_uri": "https://localhost:8080/"
        },
        "id": "SOd5XFlm30v9",
        "outputId": "125d9356-d70a-493e-db6c-52c00ca545f5"
      },
      "execution_count": 24,
      "outputs": [
        {
          "output_type": "stream",
          "name": "stdout",
          "text": [
            "[1, 2]\n"
          ]
        }
      ]
    },
    {
      "cell_type": "code",
      "source": [
        "m=int(input(\"Enter No. of terms for list B\"))\n",
        "for i in range(m):\n",
        "  k=int(input(\"Enter the number\"))\n",
        "  B.append(k)"
      ],
      "metadata": {
        "colab": {
          "base_uri": "https://localhost:8080/"
        },
        "id": "S5HS7N4z0Pik",
        "outputId": "c50231a0-edd0-4826-a27f-dd664be51181"
      },
      "execution_count": 25,
      "outputs": [
        {
          "name": "stdout",
          "output_type": "stream",
          "text": [
            "Enter No. of terms for list B2\n",
            "Enter the number2\n",
            "Enter the number3\n"
          ]
        }
      ]
    },
    {
      "cell_type": "code",
      "source": [
        "print(B)"
      ],
      "metadata": {
        "colab": {
          "base_uri": "https://localhost:8080/"
        },
        "id": "JNsfJxDM0d-h",
        "outputId": "3d9270df-3cef-42f5-e5f9-9c949e0dc04f"
      },
      "execution_count": 26,
      "outputs": [
        {
          "output_type": "stream",
          "name": "stdout",
          "text": [
            "[2, 3]\n"
          ]
        }
      ]
    },
    {
      "cell_type": "code",
      "source": [
        "A=set(A)\n",
        "B=set(B)\n",
        "print(A.intersection(B))"
      ],
      "metadata": {
        "colab": {
          "base_uri": "https://localhost:8080/"
        },
        "id": "jex0bMlw1Gtf",
        "outputId": "dda4b4af-7171-4952-b7a0-061116bf035a"
      },
      "execution_count": 27,
      "outputs": [
        {
          "output_type": "stream",
          "name": "stdout",
          "text": [
            "{2}\n"
          ]
        }
      ]
    },
    {
      "cell_type": "code",
      "source": [],
      "metadata": {
        "id": "HeJf33Bi1R8m"
      },
      "execution_count": null,
      "outputs": []
    }
  ]
}