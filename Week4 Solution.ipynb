{
  "nbformat": 4,
  "nbformat_minor": 0,
  "metadata": {
    "colab": {
      "provenance": []
    },
    "kernelspec": {
      "name": "python3",
      "display_name": "Python 3"
    },
    "language_info": {
      "name": "python"
    }
  },
  "cells": [
    {
      "cell_type": "code",
      "execution_count": 18,
      "metadata": {
        "id": "sZya5xKpHXFz"
      },
      "outputs": [],
      "source": [
        "import pandas as pd\n",
        "import numpy as np"
      ]
    },
    {
      "cell_type": "code",
      "source": [
        "# Sample datasets\n",
        "data_sales = {\n",
        "    'Date': ['2023-03-18', '2023-03-18', '2023-01-15', '2023-01-20', '2022-12-30', '2022-06-15'],\n",
        "    'Order_id': [1, 2, 3, 4, 5, 6],\n",
        "    'Item_id': [101, 102, 103, 104, 105, 106],\n",
        "    'Customer_id': [201, 202, 203, 204, 205, 206],\n",
        "    'Quantity': [2, 1, 3, 1, 2, 4],\n",
        "    'Revenue': [200, 150, 300, 100, 400, 50]\n",
        "}\n",
        "\n",
        "data_items = {\n",
        "    'Item_id': [101, 102, 103, 104, 105, 106],\n",
        "    'Item_name': ['Widget A', 'Widget B', 'Widget C', 'Widget D', 'Widget E', 'Widget F'],\n",
        "    'Price': [100, 150, 100, 100, 200, 12.5],\n",
        "    'Department': ['Electronics', 'Furniture', 'Furniture', 'Electronics', 'Toys', 'Toys']\n",
        "}\n",
        "\n",
        "data_customers = {\n",
        "    'Customer_id': [201, 202, 203, 204, 205, 206],\n",
        "    'First_name': ['John', 'Jane', 'John', 'Doe', 'Alice', 'Bob'],\n",
        "    'Last_name': ['Doe', 'Smith', 'Doe', 'Williams', 'Doe', 'Brown'],\n",
        "    'Address': ['NY', 'CA', 'TX', 'FL', 'TX', 'NV']\n",
        "}\n"
      ],
      "metadata": {
        "id": "jWXmfAXssds2"
      },
      "execution_count": 19,
      "outputs": []
    },
    {
      "cell_type": "code",
      "source": [
        "# Create DataFrames\n",
        "sales_df = pd.DataFrame(data_sales)\n",
        "items_df = pd.DataFrame(data_items)\n",
        "customers_df = pd.DataFrame(data_customers)"
      ],
      "metadata": {
        "id": "cz7zvyhcZ61h"
      },
      "execution_count": 20,
      "outputs": []
    },
    {
      "cell_type": "code",
      "source": [
        "# Question 1: Total number of orders completed on 18th March 2023\n",
        "total_orders_18_march = sales_df[sales_df['Date'] == '2023-03-18'].shape[0]\n",
        "print(\"Total orders completed on 18th March 2023:\", total_orders_18_march)"
      ],
      "metadata": {
        "colab": {
          "base_uri": "https://localhost:8080/"
        },
        "id": "kGcdgyLxsk5s",
        "outputId": "3c3b3530-2531-43cb-ebf3-b10017c65d99"
      },
      "execution_count": 21,
      "outputs": [
        {
          "output_type": "stream",
          "name": "stdout",
          "text": [
            "Total orders completed on 18th March 2023: 2\n"
          ]
        }
      ]
    },
    {
      "cell_type": "code",
      "source": [
        "# Question 2: Total number of orders completed on 18th March 2023 with first name 'John' and last name 'Doe'\n",
        "march_18_orders = sales_df[sales_df['Date'] == '2023-03-18']\n",
        "march_18_orders = pd.merge(march_18_orders, customers_df, on='Customer_id')\n",
        "orders_john_doe = march_18_orders[(march_18_orders['First_name'] == 'John') & (march_18_orders['Last_name'] == 'Doe')].shape[0]\n",
        "print(\"Total orders completed on 18th March 2023 by John Doe:\", orders_john_doe)"
      ],
      "metadata": {
        "colab": {
          "base_uri": "https://localhost:8080/"
        },
        "id": "3qk6qQ0_snmM",
        "outputId": "70cabcb4-be5c-4ca3-e85c-70566c056a72"
      },
      "execution_count": 22,
      "outputs": [
        {
          "output_type": "stream",
          "name": "stdout",
          "text": [
            "Total orders completed on 18th March 2023 by John Doe: 1\n"
          ]
        }
      ]
    },
    {
      "cell_type": "code",
      "source": [
        "# Question 3: Total customers who purchased in January 2023 and average amount spent per customer\n",
        "january_orders = sales_df[sales_df['Date'].str.startswith('2023-01')]\n",
        "total_customers_january = january_orders['Customer_id'].nunique()\n",
        "average_spent_per_customer = january_orders.groupby('Customer_id')['Revenue'].sum().mean()\n",
        "print(\"Total customers in January 2023:\", total_customers_january)\n",
        "print(\"Average amount spent per customer in January 2023:\", average_spent_per_customer)"
      ],
      "metadata": {
        "colab": {
          "base_uri": "https://localhost:8080/"
        },
        "id": "mzvaazuZsqHF",
        "outputId": "fcc24330-22aa-4795-d6c2-92dc6ad03ace"
      },
      "execution_count": 23,
      "outputs": [
        {
          "output_type": "stream",
          "name": "stdout",
          "text": [
            "Total customers in January 2023: 2\n",
            "Average amount spent per customer in January 2023: 200.0\n"
          ]
        }
      ]
    },
    {
      "cell_type": "code",
      "source": [
        "# Question 4: Departments that generated less than $600 in 2022\n",
        "sales_2022 = sales_df[sales_df['Date'].str.startswith('2022')]\n",
        "department_revenue = pd.merge(sales_2022, items_df, on='Item_id').groupby('Department')['Revenue'].sum()\n",
        "low_revenue_departments = department_revenue[department_revenue < 600]\n",
        "print(\"Departments that generated less than $600 in 2022:\")\n",
        "print(low_revenue_departments)"
      ],
      "metadata": {
        "colab": {
          "base_uri": "https://localhost:8080/"
        },
        "id": "sivJ5_eqssU-",
        "outputId": "c8324768-b161-4128-a18e-4656bbae0ffe"
      },
      "execution_count": 24,
      "outputs": [
        {
          "output_type": "stream",
          "name": "stdout",
          "text": [
            "Departments that generated less than $600 in 2022:\n",
            "Department\n",
            "Toys    450\n",
            "Name: Revenue, dtype: int64\n"
          ]
        }
      ]
    },
    {
      "cell_type": "code",
      "source": [
        "# Question 5: Most and least revenue generated by an order\n",
        "max_revenue = sales_df['Revenue'].max()\n",
        "min_revenue = sales_df['Revenue'].min()\n",
        "print(\"Most revenue generated by an order:\", max_revenue)\n",
        "print(\"Least revenue generated by an order:\", min_revenue)"
      ],
      "metadata": {
        "colab": {
          "base_uri": "https://localhost:8080/"
        },
        "id": "f8rYOfvfsvtu",
        "outputId": "cd81e897-5c96-495b-f756-770bb4d4aa2a"
      },
      "execution_count": 25,
      "outputs": [
        {
          "output_type": "stream",
          "name": "stdout",
          "text": [
            "Most revenue generated by an order: 400\n",
            "Least revenue generated by an order: 50\n"
          ]
        }
      ]
    },
    {
      "cell_type": "code",
      "source": [
        "# Question 6: Orders in the most lucrative order\n",
        "most_lucrative_order = sales_df[sales_df['Revenue'] == max_revenue]\n",
        "print(\"Most lucrative order:\")\n",
        "print(most_lucrative_order)"
      ],
      "metadata": {
        "colab": {
          "base_uri": "https://localhost:8080/"
        },
        "id": "Rkz09kKlsxbe",
        "outputId": "f796b746-e703-482b-e3cf-24d7d508d3b1"
      },
      "execution_count": 26,
      "outputs": [
        {
          "output_type": "stream",
          "name": "stdout",
          "text": [
            "Most lucrative order:\n",
            "         Date  Order_id  Item_id  Customer_id  Quantity  Revenue\n",
            "4  2022-12-30         5      105          205         2      400\n"
          ]
        }
      ]
    },
    {
      "cell_type": "code",
      "source": [],
      "metadata": {
        "id": "_9iUGmtOs1Uy"
      },
      "execution_count": null,
      "outputs": []
    }
  ]
}