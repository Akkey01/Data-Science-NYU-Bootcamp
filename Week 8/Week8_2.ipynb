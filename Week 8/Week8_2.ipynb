{
  "nbformat": 4,
  "nbformat_minor": 0,
  "metadata": {
    "colab": {
      "provenance": []
    },
    "kernelspec": {
      "name": "python3",
      "display_name": "Python 3"
    },
    "language_info": {
      "name": "python"
    }
  },
  "cells": [
    {
      "cell_type": "code",
      "execution_count": null,
      "metadata": {
        "id": "RDkFWtKjperu"
      },
      "outputs": [],
      "source": [
        "from sklearn.cluster import KMeans\n",
        "from sklearn.metrics import silhouette_score\n",
        "import matplotlib.pyplot as plt\n",
        "from sklearn.preprocessing import StandardScaler\n",
        "\n",
        "# Load dataset\n",
        "data = pd.read_csv('your_dataset.csv')\n",
        "\n",
        "# Drop target column if present\n",
        "X = data.drop(columns=['target'], errors='ignore')\n"
      ]
    },
    {
      "cell_type": "code",
      "source": [
        "# Scaling features\n",
        "scaler = StandardScaler()\n",
        "X_scaled = scaler.fit_transform(X)\n"
      ],
      "metadata": {
        "id": "_Efx_xwnpkhM"
      },
      "execution_count": null,
      "outputs": []
    },
    {
      "cell_type": "code",
      "source": [
        "# Initialize lists for metrics\n",
        "inertia_values = []\n",
        "silhouette_scores = []\n",
        "\n",
        "# Loop over values of k\n",
        "for k in range(2, 11):\n",
        "    kmeans = KMeans(n_clusters=k, random_state=42)\n",
        "    kmeans.fit(X_scaled)\n",
        "    labels = kmeans.labels_\n",
        "\n",
        "    # Compute inertia and silhouette score\n",
        "    inertia_values.append(kmeans.inertia_)\n",
        "    silhouette_scores.append(silhouette_score(X_scaled, labels))\n",
        "\n",
        "# Plot inertia and silhouette score\n",
        "plt.figure(figsize=(12, 5))\n",
        "\n",
        "# Inertia plot\n",
        "plt.subplot(1, 2, 1)\n",
        "plt.plot(range(2, 11), inertia_values, marker='o')\n",
        "plt.xlabel('Number of Clusters (k)')\n",
        "plt.ylabel('Inertia')\n",
        "plt.title('Elbow Method')\n",
        "\n",
        "# Silhouette score plot\n",
        "plt.subplot(1, 2, 2)\n",
        "plt.plot(range(2, 11), silhouette_scores, marker='o')\n",
        "plt.xlabel('Number of Clusters (k)')\n",
        "plt.ylabel('Silhouette Score')\n",
        "plt.title('Silhouette Analysis')\n",
        "\n",
        "plt.tight_layout()\n",
        "plt.show()\n"
      ],
      "metadata": {
        "id": "yfP_zHjIpn2I"
      },
      "execution_count": null,
      "outputs": []
    },
    {
      "cell_type": "code",
      "source": [
        "# Perform KMeans without scaling\n",
        "inertia_raw = []\n",
        "silhouette_raw = []\n",
        "\n",
        "for k in range(2, 11):\n",
        "    kmeans = KMeans(n_clusters=k, random_state=42)\n",
        "    kmeans.fit(X)\n",
        "    labels = kmeans.labels_\n",
        "    inertia_raw.append(kmeans.inertia_)\n",
        "    silhouette_raw.append(silhouette_score(X, labels))\n",
        "\n",
        "# Compare scaled vs unscaled metrics\n",
        "plt.figure(figsize=(12, 5))\n",
        "\n",
        "# Inertia comparison\n",
        "plt.plot(range(2, 11), inertia_values, label='Scaled Inertia')\n",
        "plt.plot(range(2, 11), inertia_raw, label='Unscaled Inertia')\n",
        "plt.xlabel('k')\n",
        "plt.ylabel('Inertia')\n",
        "plt.title('Effect of Scaling on Inertia')\n",
        "plt.legend()\n",
        "plt.show()\n"
      ],
      "metadata": {
        "id": "DJ5tGJMLprge"
      },
      "execution_count": null,
      "outputs": []
    },
    {
      "cell_type": "code",
      "source": [],
      "metadata": {
        "id": "VZnUkxq7ptHu"
      },
      "execution_count": null,
      "outputs": []
    },
    {
      "cell_type": "code",
      "source": [
        "\n"
      ],
      "metadata": {
        "id": "oqriFNIspwlT"
      },
      "execution_count": null,
      "outputs": []
    }
  ]
}